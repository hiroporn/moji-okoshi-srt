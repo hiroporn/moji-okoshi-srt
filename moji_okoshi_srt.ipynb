{
  "nbformat": 4,
  "nbformat_minor": 0,
  "metadata": {
    "colab": {
      "provenance": [],
      "authorship_tag": "ABX9TyN2odNDgPYy/WsqYlUKc1yB",
      "include_colab_link": true
    },
    "kernelspec": {
      "name": "python3",
      "display_name": "Python 3"
    },
    "language_info": {
      "name": "python"
    },
    "gpuClass": "standard",
    "accelerator": "GPU"
  },
  "cells": [
    {
      "cell_type": "markdown",
      "metadata": {
        "id": "view-in-github",
        "colab_type": "text"
      },
      "source": [
        "<a href=\"https://colab.research.google.com/github/hiroporn/moji-okoshi-srt/blob/main/moji_okoshi_srt.ipynb\" target=\"_parent\"><img src=\"https://colab.research.google.com/assets/colab-badge.svg\" alt=\"Open In Colab\"/></a>"
      ]
    },
    {
      "cell_type": "code",
      "source": [
        "#@title GoogleDriveをマウントする\n",
        "from google.colab import drive\n",
        "drive.mount('/content/gdrive')"
      ],
      "metadata": {
        "id": "RDcpscawbs4L"
      },
      "execution_count": null,
      "outputs": []
    },
    {
      "cell_type": "code",
      "source": [
        "#@title データを入れるフォルダ作成\n",
        "import os\n",
        "\n",
        "# Add folders\n",
        "checkContentFolder = os.path.exists(\"content\")\n",
        "checkDownLoadFolder = os.path.exists(\"download\")\n",
        "if not checkContentFolder:\n",
        "    os.mkdir(\"content\")\n",
        "if not checkDownLoadFolder:\n",
        "    os.mkdir(\"download\")\n",
        "\n",
        "# マウントしたGoogleドライブから音声データをcontentに移動する"
      ],
      "metadata": {
        "id": "j3XZmPL2bxd6"
      },
      "execution_count": null,
      "outputs": []
    },
    {
      "cell_type": "code",
      "source": [
        "#@title Whisperとsrtの実装\n",
        "\n",
        "!pip install srt\n",
        "\n",
        "!pip install git+https://github.com/openai/whisper.git"
      ],
      "metadata": {
        "id": "mNvyG7nY1vCv"
      },
      "execution_count": null,
      "outputs": []
    },
    {
      "cell_type": "code",
      "execution_count": null,
      "metadata": {
        "id": "M2Myt8VbbmGw",
        "colab": {
          "base_uri": "https://localhost:8080/"
        },
        "outputId": "097c31e3-552a-4c41-e06e-f8444a5bf6ef"
      },
      "outputs": [
        {
          "output_type": "stream",
          "name": "stderr",
          "text": [
            "100%|██████████████████████████████████████| 1.42G/1.42G [00:10<00:00, 148MiB/s]\n",
            "100%|██████████| 377434/377434 [09:15<00:00, 679.53frames/s]\n"
          ]
        }
      ],
      "source": [
        "#@title 実際に文字起こしを実行する\n",
        "# 文字起こしされたものは、srtファイルで出力する\n",
        "\n",
        "import srt\n",
        "import whisper\n",
        "\n",
        "from srt import Subtitle\n",
        "from datetime import timedelta\n",
        "\n",
        "# ファイル名は右側で入れられるように小細工\n",
        "file_name = \"3-3.mp3\"#@param {type:\"string\"}\n",
        "\n",
        "# モデルをsmallにするとCPUの場合で、ほぼ等倍程度で出力されるっぽい？\n",
        "# GPUが使える場合は、largeとかのほうが精度が良さそう。\n",
        "model = whisper.load_model(\"medium\")\n",
        "\n",
        "# 録音データに無音時間が無い場合は、tenperatureの設定0.8とか。min=0.7をしても良いかも？\n",
        "# 現状で設定していないのは、長めの暫時休憩があったデータで、同じ単語を繰り返して崩壊したため\n",
        "# result = model.transcribe(f\"content/{file_name}\", language=\"ja\",  temperature=0.8)\n",
        "\n",
        "result = model.transcribe(f\"content/{file_name}\",\n",
        "                          language=\"ja\",\n",
        "                          verbose=False,\n",
        "                          without_timestamps=False,\n",
        "                          )\n",
        "\n",
        "# 文字を30文字程度で折返す設定。どっかからのコピペ\n",
        "def add_line(s):\n",
        "    new_s = s\n",
        "    s_count = len(s)\n",
        "    s_max_count = 40\n",
        "    if s_count >= s_max_count:\n",
        "        if (s_count - s_max_count) >= 3:\n",
        "            # 30文字以上、かつ、2行目が3文字以上あれば、改行する\n",
        "            # つまり、43文字以上であれば、40文字で改行する\n",
        "            new_s = s[:s_max_count] + \"\\n\" + s[s_max_count:]\n",
        " \n",
        "    return new_s\n",
        "\n",
        "segments = result[\"segments\"]\n",
        "\n",
        "subs = []\n",
        " \n",
        "for data in segments:\n",
        "    index = data[\"id\"] + 1\n",
        "    start = data[\"start\"]\n",
        "    end = data[\"end\"]\n",
        "    text = add_line(data[\"text\"])\n",
        "    sub = Subtitle(index=1, start=timedelta(seconds=timedelta(seconds=start).seconds, microseconds=timedelta(seconds=start).microseconds), \n",
        "                   end=timedelta(seconds=timedelta(seconds=end).seconds, microseconds=timedelta(seconds=end).microseconds), content=text, proprietary='')\n",
        "    subs.append(sub)\n",
        " \n",
        "with open(f'download/{file_name}' + \".srt\", mode=\"w\", encoding=\"utf-8\") as f:\n",
        "    f.write(srt.compose(subs))\n"
      ]
    }
  ]
}