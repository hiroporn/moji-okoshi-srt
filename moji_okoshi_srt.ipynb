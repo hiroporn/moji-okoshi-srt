{
  "cells": [
    {
      "cell_type": "markdown",
      "metadata": {
        "colab_type": "text",
        "id": "view-in-github"
      },
      "source": [
        "<a href=\"https://colab.research.google.com/github/hiroporn/moji-okoshi-srt/blob/main/moji_okoshi_srt.ipynb\" target=\"_parent\"><img src=\"https://colab.research.google.com/assets/colab-badge.svg\" alt=\"Open In Colab\"/></a>"
      ]
    },
    {
      "cell_type": "code",
      "execution_count": null,
      "metadata": {
        "id": "RDcpscawbs4L"
      },
      "outputs": [],
      "source": [
        "#@title GoogleDriveをマウントする\n",
        "\n",
        "from google.colab import drive\n",
        "drive.mount('/content/gdrive')"
      ]
    },
    {
      "cell_type": "code",
      "execution_count": null,
      "metadata": {
        "id": "j3XZmPL2bxd6"
      },
      "outputs": [],
      "source": [
        "#@title データを入れるフォルダ作成\n",
        "\n",
        "import os\n",
        "\n",
        "# 環境にフォルダを２つ作る\n",
        "\n",
        "checkContentFolder = os.path.exists(\"input\")\n",
        "checkDownLoadFolder = os.path.exists(\"output\")\n",
        "if not checkContentFolder:\n",
        "    os.mkdir(\"input\")\n",
        "if not checkDownLoadFolder:\n",
        "    os.mkdir(\"output\")\n",
        "\n",
        "# 最初にマウントしたGoogleドライブから音声データをinputに入れる(D&Dも可能)"
      ]
    },
    {
      "cell_type": "code",
      "execution_count": null,
      "metadata": {
        "id": "mNvyG7nY1vCv"
      },
      "outputs": [],
      "source": [
        "#@title Whisperとsrtの実装\n",
        "\n",
        "!pip install srt\n",
        "!pip install git+https://github.com/openai/whisper.git"
      ]
    },
    {
      "cell_type": "code",
      "execution_count": null,
      "metadata": {
        "id": "M2Myt8VbbmGw"
      },
      "outputs": [],
      "source": [
        "#@title 実際に文字起こしを実行する\n",
        "\n",
        "# 文字起こしされたものは、srtファイルで出力する\n",
        "\n",
        "import srt\n",
        "import whisper\n",
        "\n",
        "from srt import Subtitle\n",
        "from datetime import timedelta\n",
        "\n",
        "# ファイル名は右側で入れられるように小細工\n",
        "\n",
        "file_name = \"ongen.mp3\"#@param {type:\"string\"}\n",
        "\n",
        "# モデルをsmallにするとCPUの場合で、ほぼ等倍程度で出力されるっぽい？\n",
        "# GPUが使える場合でも、時間的なものを考えると、mediumがバランスがよさそう。\n",
        "# それと、largeのほうが精度は良いが、時間もかかる。\n",
        "\n",
        "model = whisper.load_model(\"medium\")\n",
        "\n",
        "# 録音データに無音時間が無い場合は、tenperatureの設定0.8とか。min=0.7をしても良いかも？\n",
        "# 現状で設定していないのは、長めの暫時休憩があったデータで、同じ単語を繰り返して崩壊したため\n",
        "# result = model.transcribe(f\"content/{file_name}\", language=\"ja\",  temperature=0.8)\n",
        "# without_timestamps=Trueにすると、30秒区切りになるが、内容をロストするようだ。\n",
        "\n",
        "result = model.transcribe(f\"input/{file_name}\",\n",
        "                          temperature=0.8,\n",
        "                          language=\"ja\",\n",
        "                          verbose=False,\n",
        "                          without_timestamps=False,\n",
        "                          )\n",
        "\n",
        "# 文字を60文字程度で折返す設定。折り返しをコピペして改造ずみ。\n",
        "\n",
        "def add_line(s):\n",
        "    new_s = s\n",
        "    s_count = len(s)\n",
        "    s_max_count = 60\n",
        "    if s_count >= s_max_count:\n",
        "        if (s_count - s_max_count) >= 3:\n",
        "            # 60文字以上、かつ、2行目が3文字以上あれば、改行する。\n",
        "            # つまり、63文字以上であれば、60文字で改行する。\n",
        "            new_s = s[:s_max_count] + \"\\n\" + s[s_max_count:]\n",
        " \n",
        "    return new_s\n",
        "\n",
        "segments = result[\"segments\"]\n",
        "\n",
        "subs = []\n",
        "\n",
        "# 文字起こしした生データから、必要なところを抜き出すループ。\n",
        "\n",
        "for data in segments:\n",
        "    index = data[\"id\"] + 1\n",
        "    start = data[\"start\"]\n",
        "    end = data[\"end\"]\n",
        "    text = add_line(data[\"text\"])\n",
        "    sub = Subtitle(index=1, start=timedelta(seconds=timedelta(seconds=start).seconds, microseconds=timedelta(seconds=start).microseconds), \n",
        "                   end=timedelta(seconds=timedelta(seconds=end).seconds, microseconds=timedelta(seconds=end).microseconds), content=text, proprietary='')\n",
        "    subs.append(sub)\n",
        " \n",
        "# 出力フォルダ(output)にsrtファイルを書き出す\n",
        "\n",
        "with open(f'output/{file_name}' + \".srt\", mode=\"w\", encoding=\"utf-8\") as f:\n",
        "    f.write(srt.compose(subs))\n",
        "\n",
        "# できあがりの表示をする。\n",
        "\n",
        "print('完了！')\n"
      ]
    }
  ],
  "metadata": {
    "accelerator": "GPU",
    "colab": {
      "authorship_tag": "ABX9TyOjbdLYN4HeNbTOvHfzaaIB",
      "include_colab_link": true,
      "provenance": []
    },
    "gpuClass": "standard",
    "kernelspec": {
      "display_name": "Python 3",
      "name": "python3"
    },
    "language_info": {
      "name": "python"
    }
  },
  "nbformat": 4,
  "nbformat_minor": 0
}
